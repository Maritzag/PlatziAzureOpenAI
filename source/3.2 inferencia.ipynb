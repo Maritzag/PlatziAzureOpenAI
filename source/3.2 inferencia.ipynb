{
 "cells": [
  {
   "cell_type": "markdown",
   "id": "3630c235-f891-4874-bd0a-5277d4d6aa82",
   "metadata": {},
   "source": [
    "# Inferencia\n",
    "Analisis de sentimientos\n",
    "\n",
    "## Setup"
   ]
  },
  {
   "cell_type": "code",
   "execution_count": 1,
   "id": "39689e67",
   "metadata": {
    "height": 147
   },
   "outputs": [],
   "source": [
    "import openai\n",
    "import os\n",
    "\n",
    "from dotenv import load_dotenv, find_dotenv\n",
    "_ = load_dotenv(find_dotenv()) # read local .env file\n",
    "\n",
    "openai.api_key  = os.getenv('OPENAI_API_KEY')"
   ]
  },
  {
   "cell_type": "code",
   "execution_count": 2,
   "id": "e82f5577",
   "metadata": {
    "height": 164
   },
   "outputs": [],
   "source": [
    "def get_completion(prompt, model=\"gpt-3.5-turbo\"):\n",
    "    messages = [{\"role\": \"user\", \"content\": prompt}]\n",
    "    response = openai.ChatCompletion.create(\n",
    "        model=model,\n",
    "        messages=messages,\n",
    "        temperature=0, # this is the degree of randomness of the model's output\n",
    "    )\n",
    "    return response.choices[0].message[\"content\"]"
   ]
  },
  {
   "cell_type": "markdown",
   "id": "51d2fdfa-c99f-4750-8574-dba7712cd7f0",
   "metadata": {},
   "source": [
    "## Review de producto"
   ]
  },
  {
   "cell_type": "code",
   "execution_count": 4,
   "id": "b0f3b49b",
   "metadata": {
    "height": 215
   },
   "outputs": [],
   "source": [
    "review = \"\"\"\n",
    "\n",
    "\"\"\""
   ]
  },
  {
   "cell_type": "markdown",
   "id": "30d6e4bd-3337-45a3-8c99-a734cdd06743",
   "metadata": {},
   "source": [
    "## Clasificación de sentimiento"
   ]
  },
  {
   "cell_type": "code",
   "execution_count": null,
   "id": "e3157601",
   "metadata": {
    "height": 164
   },
   "outputs": [],
   "source": [
    "prompt = f\"\"\"\n",
    "\n",
    "//completar\n",
    " '''{review}'''\n",
    "\"\"\"\n",
    "response = get_completion(prompt)\n",
    "print(response)"
   ]
  },
  {
   "cell_type": "code",
   "execution_count": null,
   "id": "acf9ca16",
   "metadata": {
    "height": 215
   },
   "outputs": [],
   "source": [
    "prompt = f\"\"\"\n",
    "\n",
    "'''{review}'''\n",
    "\"\"\"\n",
    "response = get_completion(prompt)\n",
    "print(response)"
   ]
  },
  {
   "cell_type": "markdown",
   "id": "81d2a973-1fa4-4a35-ae35-a2e746c0e91b",
   "metadata": {},
   "source": [
    "## Tipos de emociones"
   ]
  },
  {
   "cell_type": "code",
   "execution_count": null,
   "id": "8aa7934b",
   "metadata": {
    "height": 198
   },
   "outputs": [],
   "source": [
    "prompt = f\"\"\"\n",
    " '''{review}'''\n",
    "\"\"\"\n",
    "response = get_completion(prompt)\n",
    "print(response)"
   ]
  },
  {
   "cell_type": "markdown",
   "id": "a428d093-51c9-461c-b41e-114e80876409",
   "metadata": {},
   "source": [
    "## Enojo"
   ]
  },
  {
   "cell_type": "code",
   "execution_count": null,
   "id": "dba1a538",
   "metadata": {
    "height": 181
   },
   "outputs": [],
   "source": [
    "prompt = f\"\"\"\n",
    " '''{review}'''\n",
    "\"\"\"\n",
    "response = get_completion(prompt)\n",
    "print(response)"
   ]
  },
  {
   "cell_type": "markdown",
   "id": "936a771e-ca78-4e55-8088-2da6f3820ddc",
   "metadata": {},
   "source": [
    "## Extraer productos y nombre de la compañia en el comentario del cliente"
   ]
  },
  {
   "cell_type": "code",
   "execution_count": null,
   "id": "a13bea1b",
   "metadata": {
    "height": 300
   },
   "outputs": [],
   "source": [
    "prompt = f\"\"\"\n",
    " '''{review}'''\n",
    "\"\"\"\n",
    "response = get_completion(prompt)\n",
    "print(response)"
   ]
  },
  {
   "cell_type": "markdown",
   "id": "a38880a5-088f-4609-9913-f8fa41fb7ba0",
   "metadata": {},
   "source": [
    "## Varias tareas en una petición"
   ]
  },
  {
   "cell_type": "code",
   "execution_count": null,
   "id": "e7dda9e5",
   "metadata": {
    "height": 351
   },
   "outputs": [],
   "source": [
    "prompt = f\"\"\"\n",
    " '''{review}'''\n",
    "\"\"\"\n",
    "response = get_completion(prompt)\n",
    "print(response)"
   ]
  },
  {
   "cell_type": "markdown",
   "id": "235fc223-2c89-49ec-ac2d-78a8e74a43ac",
   "metadata": {},
   "source": [
    "## Inferir diferentes temas"
   ]
  },
  {
   "cell_type": "code",
   "execution_count": null,
   "id": "8a74cc3e",
   "metadata": {
    "height": 487
   },
   "outputs": [],
   "source": [
    "historia = \"\"\"\n",
    "\n",
    "\"\"\""
   ]
  },
  {
   "cell_type": "code",
   "execution_count": null,
   "id": "94b8fa65",
   "metadata": {
    "height": 96
   },
   "outputs": [],
   "source": [
    "topic_list = [\n",
    "   \n",
    "]"
   ]
  },
  {
   "cell_type": "markdown",
   "id": "34be1d2a-1309-4512-841a-b6f67338938b",
   "metadata": {},
   "source": [
    "## Alerta sobre temas identificados"
   ]
  },
  {
   "cell_type": "code",
   "execution_count": null,
   "id": "626c5b8e",
   "metadata": {
    "height": 249
   },
   "outputs": [],
   "source": [
    "prompt = f\"\"\"\n",
    "\n",
    "\n",
    "List of topics: {\", \".join(topic_list)}\n",
    "\n",
    "Text sample: '''{historia}'''\n",
    "\"\"\"\n",
    "response = get_completion(prompt)\n",
    "print(response)"
   ]
  },
  {
   "cell_type": "code",
   "execution_count": null,
   "id": "902a7c74",
   "metadata": {
    "height": 79
   },
   "outputs": [],
   "source": [
    "topic_dict = {i.split(': ')[0]: int(i.split(': ')[1]) for i in response.split(sep='\\n')}\n",
    "if topic_dict[''] == 1:\n",
    "    print(\"ALERT: !\")"
   ]
  },
  {
   "cell_type": "code",
   "execution_count": null,
   "id": "1bd3553f",
   "metadata": {
    "height": 30
   },
   "outputs": [],
   "source": []
  }
 ],
 "metadata": {
  "kernelspec": {
   "display_name": "Python 3 (ipykernel)",
   "language": "python",
   "name": "python3"
  },
  "language_info": {
   "codemirror_mode": {
    "name": "ipython",
    "version": 3
   },
   "file_extension": ".py",
   "mimetype": "text/x-python",
   "name": "python",
   "nbconvert_exporter": "python",
   "pygments_lexer": "ipython3",
   "version": "3.11.3"
  }
 },
 "nbformat": 4,
 "nbformat_minor": 5
}
