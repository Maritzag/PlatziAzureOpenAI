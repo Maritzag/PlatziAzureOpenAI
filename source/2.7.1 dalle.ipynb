{
 "cells": [
  {
   "cell_type": "code",
   "execution_count": null,
   "metadata": {},
   "outputs": [],
   "source": [
    "\n",
    "pip install openai python-dotenv"
   ]
  },
  {
   "cell_type": "code",
   "execution_count": null,
   "metadata": {},
   "outputs": [],
   "source": [
    "import os\n",
    "import openai\n",
    "\n",
    "openai.api_type = \"azure\"\n",
    "openai.api_base = \"https://myopenaiservice10mmg01.openai.azure.com/\"\n",
    "openai.api_version = \"2023-06-01-preview\"\n",
    "openai.api_key = '2b6bf52deb764824b5bd392720f9f1af'\n",
    "#openai.api_type = \"azure\"\n",
    "#openai.api_base = \"https://myopenaiservice10mmg01.openai.azure.com/\"\n",
    "#openai.api_version = \"2023-06-01-preview\"\n",
    "#openai.api_key = os.getenv(\"OPENAI_API_KEY\")\n",
    "#openai.api_key = '2b6bf52deb764824b5bd392720f9f1af'\n",
    "\n",
    "response = openai.Image.create(\n",
    "    prompt='ardilla',\n",
    "    size='1024x1024',\n",
    "    n=1\n",
    ")\n",
    "\n",
    "image_url = response[\"data\"][0][\"url\"]\n",
    "\n"
   ]
  },
  {
   "cell_type": "code",
   "execution_count": null,
   "metadata": {},
   "outputs": [],
   "source": [
    "import requests\n",
    "import time\n",
    "import os\n",
    "from dotenv import load_dotenv\n",
    "\n",
    "\n",
    "\n",
    "# Get Azure OpenAI Service settings\n",
    "load_dotenv()\n",
    "api_base = os.getenv(\"AZURE_OAI_ENDPOINT\")\n",
    "api_key = os.getenv(\"AZURE_OAI_KEY\")\n",
    "api_version = '2023-06-01-preview'\n",
    "\n",
    "# Get prompt for image to be generated\n",
    "prompt = \"ardilla corriendo en el parque \"\n",
    "\n",
    "# Make the initial call to start the job\n",
    "url = \"{}openai/images/generations:submit?api-version={}\".format(api_base, api_version)\n",
    "headers= { \"api-key\": api_key, \"Content-Type\": \"application/json\" }\n",
    "body = {\n",
    "    \"prompt\": prompt,\n",
    "    \"n\": 1,\n",
    "    \"size\": \"512x512\"\n",
    "}\n",
    "submission = requests.post(url, headers=headers, json=body)\n",
    "\n",
    "# Get the operation-location URL for the callback\n",
    "operation_location = submission.headers['Operation-Location']\n",
    "\n",
    "# Consulta hasta que el job se haya completado con éxito\n",
    "status = \"\"\n",
    "while (status != \"succeeded\"):\n",
    "    time.sleep(3) # Espera 3 segundos para evitar llegar al límite\n",
    "    response = requests.get(operation_location, headers=headers)\n",
    "    status = response.json()['status']\n",
    "\n",
    "#Consulta en los resultados la URL de la imagen generada\n",
    "image_url = response.json()['result']['data'][0]['url']\n",
    "\n",
    "# Despliega la URL de la imagen generada\n",
    "print(image_url)\n",
    "     "
   ]
  },
  {
   "cell_type": "code",
   "execution_count": null,
   "metadata": {},
   "outputs": [],
   "source": [
    "pip install pillow"
   ]
  },
  {
   "cell_type": "code",
   "execution_count": null,
   "metadata": {},
   "outputs": [],
   "source": [
    "import requests\n",
    "from PIL import Image\n",
    "from io import BytesIO\n",
    "\n",
    "# Obtén la URL de la imagen\n",
    "\n",
    "# Realiza la solicitud GET a la URL de la imagen\n",
    "response = requests.get(image_url)\n",
    "\n",
    "# Verifica si la solicitud fue exitosa\n",
    "if response.status_code == 200:\n",
    "    # Crea una instancia de la imagen desde los datos de la respuesta\n",
    "    image = Image.open(BytesIO(response.content))\n",
    "\n",
    "    # Muestra la imagen\n",
    "    image.show()\n",
    "else:\n",
    "    print(\"No se pudo obtener la imagen\")"
   ]
  }
 ],
 "metadata": {
  "kernelspec": {
   "display_name": "Python 3",
   "language": "python",
   "name": "python3"
  },
  "language_info": {
   "codemirror_mode": {
    "name": "ipython",
    "version": 3
   },
   "file_extension": ".py",
   "mimetype": "text/x-python",
   "name": "python",
   "nbconvert_exporter": "python",
   "pygments_lexer": "ipython3",
   "version": "3.11.3"
  }
 },
 "nbformat": 4,
 "nbformat_minor": 2
}
