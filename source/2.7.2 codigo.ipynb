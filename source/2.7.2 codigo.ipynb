{
 "cells": [
  {
   "cell_type": "markdown",
   "metadata": {},
   "source": [
    "Generación de código"
   ]
  },
  {
   "cell_type": "code",
   "execution_count": null,
   "metadata": {},
   "outputs": [],
   "source": [
    "import os\n",
    "import openai\n",
    "from dotenv import load_dotenv\n",
    "\n",
    "load_dotenv()\n",
    "openai.api_type = \"azure\"\n",
    "openai.api_base = os.getenv(\"AZURE_OAI_ENDPOINT\") \n",
    "openai.api_version = \"2023-07-01-preview\"\n",
    "openai.api_key = os.getenv(\"OPENAI_API_KEY\") \n",
    "model = os.getenv(\"AZURE_OAI_DEPLOYMENT_CODE\") \n",
    "\n",
    "\n",
    "response = openai.Completion.create(\n",
    "  engine=model,\n",
    "  prompt=\"escribir una función que realice búsqueda binaria en arreglos ordenados \",\n",
    "  temperature=1,\n",
    "  max_tokens=100,\n",
    "  top_p=0.5,\n",
    "  frequency_penalty=0,\n",
    "  presence_penalty=0,\n",
    "  best_of=1,\n",
    "  stop=None)\n",
    "\n",
    "#print (response)\n",
    "#print (response[\"choices\"])\n",
    "#print (response[\"choices\"][0])\n",
    "print (response[\"choices\"][0][\"text\"])\n"
   ]
  },
  {
   "cell_type": "markdown",
   "metadata": {},
   "source": [
    "Cambiar de lenguaje"
   ]
  },
  {
   "cell_type": "markdown",
   "metadata": {},
   "source": [
    "prompt = \n",
    "\"def print_squares(n):  \n",
    "    for i in range(1, n+1):  \n",
    "        print(i**2)   "
   ]
  },
  {
   "cell_type": "code",
   "execution_count": null,
   "metadata": {},
   "outputs": [],
   "source": [
    "\n",
    "def main(): \n",
    "        \n",
    "    try: \n",
    "    \n",
    "        # Get configuration settings \n",
    "        load_dotenv()\n",
    "        azure_oai_endpoint = os.getenv(\"AZURE_OAI_ENDPOINT\")\n",
    "        azure_oai_key = os.getenv(\"AZURE_OAI_KEY\")\n",
    "        azure_oai_model = os.getenv(\"AZURE_OAI_DEPLOYMENT\")\n",
    "        \n",
    "        # Configure the Azure OpenAI client\n",
    "\n",
    "        while True:\n",
    "            print('\\n1: Add comments to my function\\n' +\n",
    "                '2: Write unit tests for my function\\n' +\n",
    "                '3: Fix my Go Fish game\\n' +\n",
    "                '\\\"quit\\\" to exit the program\\n')\n",
    "            command = input('Enter a number to select a task:')\n",
    "            if command == '1':\n",
    "                file = open(file=\"../sample-code/function/function.py\", encoding=\"utf8\").read()\n",
    "                prompt = \"Add comments to the following function. Return only the commented code.\\n---\\n\" + file\n",
    "                call_openai_model(prompt, model=azure_oai_model, client=client)\n",
    "            elif command =='2':\n",
    "                file = open(file=\"../sample-code/function/function.py\", encoding=\"utf8\").read()\n",
    "                prompt = \"Write four unit tests for the following function.\\n---\\n\" + file\n",
    "                call_openai_model(prompt, model=azure_oai_model, client=client)\n",
    "            elif command =='3':\n",
    "                file = open(file=\"../sample-code/go-fish/go-fish.py\", encoding=\"utf8\").read()\n",
    "                prompt = \"Fix the code below for an app to play Go Fish with the user. Return only the corrected code.\\n---\\n\" + file\n",
    "                call_openai_model(prompt, model=azure_oai_model, client=client)\n",
    "            elif command.lower() == 'quit':\n",
    "                print('Exiting program...')\n",
    "                break\n",
    "            else :\n",
    "                print(\"Invalid input. Please try again.\")\n",
    "\n",
    "    except Exception as ex:\n",
    "        print(ex)\n",
    "\n",
    "def call_openai_model(prompt, model, client):\n",
    "    # Provide a basic user message, and use the prompt content as the user message\n",
    "    system_message = \"You are a helpful AI assistant that helps programmers write code.\"\n",
    "    user_message = prompt\n",
    "\n",
    "    # Format and send the request to the model\n",
    "    \n",
    "    # Print the response to the console, if desired\n",
    "    if printFullResponse:\n",
    "        print(response)\n",
    "\n",
    "    # Write the response to a file\n",
    "    results_file = open(file=\"result/app.txt\", mode=\"w\", encoding=\"utf8\")\n",
    "    results_file.write(response.choices[0].message.content)\n",
    "    print(\"\\nResponse written to result/app.txt\\n\\n\")\n",
    "\n",
    "if __name__ == '__main__': \n",
    "    main()"
   ]
  }
 ],
 "metadata": {
  "kernelspec": {
   "display_name": "Python 3",
   "language": "python",
   "name": "python3"
  },
  "language_info": {
   "codemirror_mode": {
    "name": "ipython",
    "version": 3
   },
   "file_extension": ".py",
   "mimetype": "text/x-python",
   "name": "python",
   "nbconvert_exporter": "python",
   "pygments_lexer": "ipython3",
   "version": "3.11.3"
  }
 },
 "nbformat": 4,
 "nbformat_minor": 2
}
