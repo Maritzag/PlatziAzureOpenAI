{
 "cells": [
  {
   "cell_type": "code",
   "execution_count": null,
   "metadata": {},
   "outputs": [],
   "source": [
    "\n",
    "pip install openai python-dotenv"
   ]
  },
  {
   "cell_type": "code",
   "execution_count": null,
   "metadata": {},
   "outputs": [],
   "source": [
    "import os\n",
    "import openai\n",
    "from dotenv import load_dotenv\n",
    "\n",
    "load_dotenv()\n",
    "openai.api_type = \"azure\"\n",
    "openai.api_base = os.getenv(\"AZURE_OAI_ENDPOINT\") \n",
    "openai.api_version = \"2023-07-01-preview\"\n",
    "openai.api_key = os.getenv(\"OPENAI_API_KEY\") \n",
    "model = os.getenv(\"AZURE_OAI_DEPLOYMENT\") \n",
    "\n",
    "message_text = [{\"role\":\"system\",\"content\":\"You are a virtual assistant that helps to answer questions \"},\n",
    "                {\"role\":\"user\",\"content\":\"hola\"}]\n",
    "\n",
    "completion = openai.ChatCompletion.create(\n",
    "  engine=model, #modelo desplegado\n",
    "  messages = message_text,\n",
    "  temperature=0.7,\n",
    "  max_tokens=800,\n",
    "  top_p=0.95,\n",
    "  frequency_penalty=0,\n",
    "  presence_penalty=0,\n",
    "  stop=None\n",
    ")\n",
    "#print (completion['choices'])\n",
    "print (completion['choices'][0])\n",
    "#print (completion['choices'][0]['content_filter_results'])\n",
    "#print (completion['choices'][0]['message'])\n",
    "#print (completion['choices'][0]['message']['content'])\n",
    "\n",
    "\n"
   ]
  }
 ],
 "metadata": {
  "kernelspec": {
   "display_name": "Python 3",
   "language": "python",
   "name": "python3"
  },
  "language_info": {
   "codemirror_mode": {
    "name": "ipython",
    "version": 3
   },
   "file_extension": ".py",
   "mimetype": "text/x-python",
   "name": "python",
   "nbconvert_exporter": "python",
   "pygments_lexer": "ipython3",
   "version": "3.11.3"
  }
 },
 "nbformat": 4,
 "nbformat_minor": 2
}
