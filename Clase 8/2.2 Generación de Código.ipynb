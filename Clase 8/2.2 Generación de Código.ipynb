{
 "cells": [
  {
   "cell_type": "markdown",
   "metadata": {},
   "source": [
    "# Generación de código\n",
    "\n",
    "### East US: \n",
    "gpt-3.5-turbo-instruct"
   ]
  },
  {
   "cell_type": "code",
   "execution_count": null,
   "metadata": {},
   "outputs": [],
   "source": [
    "import os\n",
    "import openai\n",
    "from dotenv import load_dotenv\n",
    "\n",
    "load_dotenv()\n",
    "openai.api_type = \"azure\"\n",
    "openai.api_base = os.getenv(\"AZURE_OAI_ENDPOINT_CODE\") \n",
    "openai.api_version = os.getenv(\"OPENAI_API_VERSION_CODE\")\n",
    "openai.api_key = os.getenv(\"AZURE_OAI_KEY_CODE\") \n",
    "model = os.getenv(\"AZURE_OAI_DEPLOYMENT_CODE\") \n",
    "\n",
    "\n",
    "response = openai.Completion.create(\n",
    "  engine=model,\n",
    "  prompt=\"escribir una función que realice búsqueda binaria en arreglos ordenados \",\n",
    "  temperature=1,\n",
    "  max_tokens=100,\n",
    "  top_p=0.5,\n",
    "  frequency_penalty=0,\n",
    "  presence_penalty=0,\n",
    "  best_of=1,\n",
    "  stop=None)\n",
    "\n",
    "print (response)\n",
    "\n",
    "#evaluar response\n",
    "\n",
    "#print (response[\"choices\"])\n",
    "#print (response[\"choices\"][0])\n",
    "#print (response[\"choices\"][0][\"text\"])\n"
   ]
  },
  {
   "cell_type": "markdown",
   "metadata": {},
   "source": [
    "# Función para consultar Azure OpenAI "
   ]
  },
  {
   "cell_type": "code",
   "execution_count": null,
   "metadata": {},
   "outputs": [],
   "source": [
    "import os\n",
    "import openai\n",
    "from dotenv import load_dotenv\n",
    "def get_completion(promptCod):  \n",
    "    load_dotenv()\n",
    "    openai.api_type = \"azure\"\n",
    "    openai.api_base = os.getenv(\"AZURE_OAI_ENDPOINT\") \n",
    "    openai.api_version = \"2023-07-01-preview\"\n",
    "    openai.api_key = os.getenv(\"OPENAI_API_KEY\") \n",
    "    model = os.getenv(\"AZURE_OAI_DEPLOYMENT_CODE\") \n",
    "\n",
    "    response = openai.Completion.create(\n",
    "    engine=model,\n",
    "    prompt=promptCod,\n",
    "    temperature=1,\n",
    "    max_tokens=100,\n",
    "    top_p=0.5,\n",
    "    frequency_penalty=0,\n",
    "    presence_penalty=0,\n",
    "    best_of=1,\n",
    "    stop=None)\n",
    "    \n",
    "    return response\n"
   ]
  },
  {
   "cell_type": "markdown",
   "metadata": {},
   "source": [
    "# Cambiar de lenguaje"
   ]
  },
  {
   "cell_type": "code",
   "execution_count": null,
   "metadata": {},
   "outputs": [],
   "source": [
    "promptCode = \"\"\" Convertir este código a JAVA\n",
    "def print_squares(n):  \n",
    "    for i in range(1, n+1):  \n",
    "        print(i**2)   \"\"\"\n",
    "#promptCode = \"escribir una función que realice búsqueda binaria en arreglos ordenados \"\n",
    "response = get_completion(promptCode)\n",
    "#print (response)\n",
    "#print (response[\"choices\"][0])\n",
    "print (response[\"choices\"][0][\"text\"])"
   ]
  },
  {
   "cell_type": "markdown",
   "metadata": {},
   "source": [
    "# Explicar código"
   ]
  },
  {
   "cell_type": "code",
   "execution_count": null,
   "metadata": {},
   "outputs": [],
   "source": [
    "promptCode = \"\"\" podrías explicar en lenguaje natural qué hace este código?\n",
    "fn qzplv(n: i32, m: i32) -> i32 {\n",
    "    if n == 0 {\n",
    "        return m + 1;\n",
    "    } else if m == 0 {\n",
    "        return qzplv(n - 1, 1);\n",
    "    } else {\n",
    "        return qzplv(n - 1, qzplv(n, m - 1));\n",
    "    }\n",
    "}\"\"\"\n",
    "response = get_completion(promptCode)\n",
    "print (response[\"choices\"][0][\"text\"])"
   ]
  },
  {
   "cell_type": "markdown",
   "metadata": {},
   "source": [
    "# Completar Código "
   ]
  },
  {
   "cell_type": "code",
   "execution_count": null,
   "metadata": {},
   "outputs": [],
   "source": [
    "promptCode = \"\"\" podrías completar el código de la siguiente función?\n",
    "//calcula el cuadrado de un número\n",
    "\"\"\"\n",
    "response = get_completion(promptCode)\n",
    "print (response[\"choices\"][0][\"text\"])"
   ]
  },
  {
   "cell_type": "code",
   "execution_count": null,
   "metadata": {},
   "outputs": [],
   "source": [
    "promptCode = \"\"\" podrías completar el código de la siguiente función?\n",
    "public int ImprimirCuadrado(int n) {\n",
    "    int cuadrado = n*n;\n",
    " \n",
    "\"\"\"\n",
    "response = get_completion(promptCode)\n",
    "print (response[\"choices\"][0][\"text\"])"
   ]
  },
  {
   "cell_type": "markdown",
   "metadata": {},
   "source": [
    "# Documentar código"
   ]
  },
  {
   "cell_type": "code",
   "execution_count": null,
   "metadata": {},
   "outputs": [],
   "source": [
    "promptCode = \"\"\" Documentar el codigo de la siguiente funcion\n",
    "public  int fibonacci(int n) {\n",
    "    if (n <= 1) {\n",
    "        return n;\n",
    "    }\n",
    "    return fibonacci(n-1) + fibonacci(n-2);\n",
    "}\n",
    " \n",
    "\"\"\"\n",
    "response = get_completion(promptCode)\n",
    "print (response[\"choices\"][0][\"text\"])"
   ]
  },
  {
   "cell_type": "markdown",
   "metadata": {},
   "source": [
    "# Corregir Errores"
   ]
  },
  {
   "cell_type": "code",
   "execution_count": null,
   "metadata": {},
   "outputs": [],
   "source": [
    "promptCode = \"\"\" Corregir la siguiente funcion\n",
    "public  int Cuadrado(int n) {\n",
    "    int cuadrado = n*n-1+4;\n",
    "    return cuadrado;\n",
    "}\n",
    " \n",
    "\"\"\"\n",
    "response = get_completion(promptCode)\n",
    "print (response[\"choices\"][0][\"text\"])"
   ]
  },
  {
   "cell_type": "markdown",
   "metadata": {},
   "source": [
    "# Mejorar Rendimiento"
   ]
  },
  {
   "cell_type": "code",
   "execution_count": null,
   "metadata": {},
   "outputs": [],
   "source": [
    "promptCode = \"\"\" optimizar el siguiente código\n",
    "\n",
    "public int SumOfN(int n)  \n",
    "{  \n",
    "    int result = 0;  \n",
    "    for (int i = 1; i <= n; i++)  \n",
    "    {  \n",
    "        result += i;  \n",
    "    }  \n",
    "    return result;  \n",
    "}  \n",
    " \n",
    "\"\"\"\n",
    "response = get_completion(promptCode)\n",
    "print (response[\"choices\"][0][\"text\"])\n"
   ]
  }
 ],
 "metadata": {
  "kernelspec": {
   "display_name": "Python 3",
   "language": "python",
   "name": "python3"
  },
  "language_info": {
   "codemirror_mode": {
    "name": "ipython",
    "version": 3
   },
   "file_extension": ".py",
   "mimetype": "text/x-python",
   "name": "python",
   "nbconvert_exporter": "python",
   "pygments_lexer": "ipython3",
   "version": "3.11.3"
  }
 },
 "nbformat": 4,
 "nbformat_minor": 2
}
